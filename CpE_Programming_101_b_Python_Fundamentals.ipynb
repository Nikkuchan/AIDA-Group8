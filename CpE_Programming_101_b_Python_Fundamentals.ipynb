{
  "nbformat": 4,
  "nbformat_minor": 0,
  "metadata": {
    "colab": {
      "name": "CpE Programming 101.b - Python Fundamentals",
      "provenance": [],
      "collapsed_sections": [],
      "toc_visible": true,
      "include_colab_link": true
    },
    "kernelspec": {
      "name": "python3",
      "display_name": "Python 3"
    }
  },
  "cells": [
    {
      "cell_type": "markdown",
      "metadata": {
        "id": "view-in-github",
        "colab_type": "text"
      },
      "source": [
        "<a href=\"https://colab.research.google.com/github/Nikkuchan/AIDA-Group8/blob/main/CpE_Programming_101_b_Python_Fundamentals.ipynb\" target=\"_parent\"><img src=\"https://colab.research.google.com/assets/colab-badge.svg\" alt=\"Open In Colab\"/></a>"
      ]
    },
    {
      "cell_type": "markdown",
      "metadata": {
        "id": "QnAdk8hy7Bl9"
      },
      "source": [
        "# Welcome to Python Fundamentals :D\r\n",
        "In this module, we are going to establish or review our skills in Python programming. In this notebook we are going to cover:\r\n",
        "* Variables and Data Types \r\n",
        "* Operations\r\n",
        "* Input and Output Operations\r\n",
        "* Logic Control\r\n",
        "* Iterables\r\n",
        "* Functions"
      ]
    },
    {
      "cell_type": "markdown",
      "metadata": {
        "id": "T6ABRAjTT1Ta"
      },
      "source": [
        "## Variable and Data Types"
      ]
    },
    {
      "cell_type": "code",
      "metadata": {
        "id": "G8JI3DTZ616F"
      },
      "source": [
        "x = 1\r\n",
        "a,b = 0, -1"
      ],
      "execution_count": null,
      "outputs": []
    },
    {
      "cell_type": "code",
      "metadata": {
        "id": "QLT9rz2dUJ95"
      },
      "source": [
        "type(x)"
      ],
      "execution_count": null,
      "outputs": []
    },
    {
      "cell_type": "code",
      "metadata": {
        "id": "TR_rvX4SUWqx"
      },
      "source": [
        "y = 1.0\r\n",
        "type(y)"
      ],
      "execution_count": null,
      "outputs": []
    },
    {
      "cell_type": "code",
      "metadata": {
        "id": "FqV2upOiXcnC"
      },
      "source": [
        "x = float(x)\r\n",
        "type(x)"
      ],
      "execution_count": null,
      "outputs": []
    },
    {
      "cell_type": "code",
      "metadata": {
        "id": "2tuyqwmyXiDb"
      },
      "source": [
        "s,t,u = \"0\", '1', 'one'\r\n",
        "type(s)"
      ],
      "execution_count": null,
      "outputs": []
    },
    {
      "cell_type": "code",
      "metadata": {
        "id": "6JwWqHx3XlmB"
      },
      "source": [
        "s_int = int(s)\r\n",
        "s_int"
      ],
      "execution_count": null,
      "outputs": []
    },
    {
      "cell_type": "markdown",
      "metadata": {
        "id": "9RgPwQR4YVG5"
      },
      "source": [
        "## Operations"
      ]
    },
    {
      "cell_type": "markdown",
      "metadata": {
        "id": "Ae8mYB576O4o"
      },
      "source": [
        ""
      ]
    },
    {
      "cell_type": "markdown",
      "metadata": {
        "id": "mvoS_zuJYbsg"
      },
      "source": [
        "### Arithmetic\r\n",
        "*These are used to perform the basic operators that we have been used to using from our earlier days in mathematics. The arithmetic operators consists of: addition, subtraction, multiplication, division, floor division, exponentiation, and modulo. Some of this terms are new since this are used differently with basic mathematics. Below are there functions within Python Programming.*"
      ]
    },
    {
      "cell_type": "code",
      "metadata": {
        "id": "DSjUO0KcYoE-"
      },
      "source": [
        "a,b,c,d = 2.0, -0.5, 0, -32"
      ],
      "execution_count": 30,
      "outputs": []
    },
    {
      "cell_type": "markdown",
      "metadata": {
        "id": "nZsmN-uB5iYI"
      },
      "source": [
        "**Assignment of Values:**\r\n",
        "In this line of codes, you can see that the variables a, b, c, and d are set with values respectively. These variables which holds those values would become useful whenever you are to use operators in programming. These variables would be called whenever you are to use an arithmetic operator, the numbers which they hold are the one being used with the operator.\r\n",
        "\r\n",
        "*To use these values. Run the code first.*"
      ]
    },
    {
      "cell_type": "code",
      "metadata": {
        "id": "o_kk0XFzYX9o",
        "colab": {
          "base_uri": "https://localhost:8080/"
        },
        "outputId": "bc970ef6-12fe-41dc-e14d-cfa41420269a"
      },
      "source": [
        "### Addition\r\n",
        "S = a+b\r\n",
        "S"
      ],
      "execution_count": 3,
      "outputs": [
        {
          "output_type": "execute_result",
          "data": {
            "text/plain": [
              "1.5"
            ]
          },
          "metadata": {
            "tags": []
          },
          "execution_count": 3
        }
      ]
    },
    {
      "cell_type": "markdown",
      "metadata": {
        "id": "qPZB7wHb6m7A"
      },
      "source": [
        "**Addition Arithmetic Operator:**\r\n",
        "This arithmetic operator adds values on either side of the operators. The codes above is an example. Running the codes gaves us the sum of 1.5\r\n",
        "\r\n",
        "![SAMPLE 0 ADDITION.png](data:image/png;base64,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)"
      ]
    },
    {
      "cell_type": "code",
      "metadata": {
        "id": "TC5oFq3MY4jk",
        "colab": {
          "base_uri": "https://localhost:8080/"
        },
        "outputId": "7f219568-a293-4d92-a566-d4dc7df6a9d6"
      },
      "source": [
        "### Subtraction\r\n",
        "D = b-a\r\n",
        "D"
      ],
      "execution_count": 8,
      "outputs": [
        {
          "output_type": "execute_result",
          "data": {
            "text/plain": [
              "-2.5"
            ]
          },
          "metadata": {
            "tags": []
          },
          "execution_count": 8
        }
      ]
    },
    {
      "cell_type": "markdown",
      "metadata": {
        "id": "Cdl2sNCo-KpA"
      },
      "source": [
        "**Subtraction Arithmetic Operator:**\r\n",
        "This arithmetic operator subtracts values from right side operand to left side operand. Running the codes above will give you an ideal answer which is a positive difference, but if the right hand operand has a lesser value than the left hand operand you will get a negative differnce.\r\n",
        "\r\n",
        "![SAMPLE 1 SUBTRACTION.png](data:image/png;base64,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)  ![SAMPLE 2 SUBTRACTION.png](data:image/png;base64,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)"
      ]
    },
    {
      "cell_type": "code",
      "metadata": {
        "id": "j0bGayj5Y9wr",
        "colab": {
          "base_uri": "https://localhost:8080/"
        },
        "outputId": "4c736a1c-34df-4fc4-bc74-e9b87cf63f74"
      },
      "source": [
        "### Multiplication\r\n",
        "P = a*d\r\n",
        "P"
      ],
      "execution_count": 9,
      "outputs": [
        {
          "output_type": "execute_result",
          "data": {
            "text/plain": [
              "-64.0"
            ]
          },
          "metadata": {
            "tags": []
          },
          "execution_count": 9
        }
      ]
    },
    {
      "cell_type": "markdown",
      "metadata": {
        "id": "ePUDwovCA8EX"
      },
      "source": [
        "**Multiplication Arithmetic Operator:**\r\n",
        "This arithmetic operator is similar to how the addition arithmetic operator functions. The multiplication operator multiplies values on either side of the operator.\r\n",
        "\r\n",
        "![SAMPLE 3 MULTIPLICATION.png](data:image/png;base64,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)"
      ]
    },
    {
      "cell_type": "code",
      "metadata": {
        "id": "FnMWmq5LZLEU",
        "colab": {
          "base_uri": "https://localhost:8080/"
        },
        "outputId": "03774388-0998-4f67-bae0-6e4bb2a987cf"
      },
      "source": [
        "### Division\r\n",
        "Q = c/a\r\n",
        "Q"
      ],
      "execution_count": 18,
      "outputs": [
        {
          "output_type": "execute_result",
          "data": {
            "text/plain": [
              "0.0"
            ]
          },
          "metadata": {
            "tags": []
          },
          "execution_count": 18
        }
      ]
    },
    {
      "cell_type": "markdown",
      "metadata": {
        "id": "B8FdTcImBdSX"
      },
      "source": [
        "**Division Arithmetic Operator:**\r\n",
        "This arithmetic operator also has its own restrictions. To use the division operator (/) it divides from the left hand operand to the right hand operand. Another thing about this type of division is that it follows the rule of what a normal division is. Since variable c holds a negative value it will give us the quotient value of 0.0\r\n",
        "\r\n",
        "![SAMPLE 4 DIVISION.png](data:image/png;base64,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)\r\n",
        "\r\n",
        "Aside from that this division arithmetic operator will always give an answer with a floating point."
      ]
    },
    {
      "cell_type": "code",
      "metadata": {
        "id": "cQeVcFIWZd8o",
        "colab": {
          "base_uri": "https://localhost:8080/"
        },
        "outputId": "d01dc206-faed-432c-a6b6-1fe9a414df9f"
      },
      "source": [
        "### Floor Division\r\n",
        "Fq = a//b\r\n",
        "Fq"
      ],
      "execution_count": 23,
      "outputs": [
        {
          "output_type": "execute_result",
          "data": {
            "text/plain": [
              "-4.0"
            ]
          },
          "metadata": {
            "tags": []
          },
          "execution_count": 23
        }
      ]
    },
    {
      "cell_type": "markdown",
      "metadata": {
        "id": "UsqGpUjkC5E_"
      },
      "source": [
        "**Floor Division Arithemetic Operator:**\r\n",
        "This type of division which is sometimes called as integer division, will return an integer even if it returns a quotient that looks like a floating point the decimal after the integer is removed with this type of operator. If a variable holds a negative value, it will automatically round the quotient to negative infinity. Similar with the division operator, FD (Floor Division) will return a different quotient if variables are interchange. Making it perform from the left hand operand to the right hand operand.\r\n",
        "\r\n",
        "![SAMPLE 5 FD.png](data:image/png;base64,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)           ![SAMPLE 6 FD.png](data:image/png;base64,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)"
      ]
    },
    {
      "cell_type": "code",
      "metadata": {
        "id": "YLaUu6APZSzR",
        "colab": {
          "base_uri": "https://localhost:8080/"
        },
        "outputId": "c1a39fff-532c-4190-9539-dd70f161de3f"
      },
      "source": [
        "### Exponentiation\r\n",
        "E = a**b\r\n",
        "E"
      ],
      "execution_count": 24,
      "outputs": [
        {
          "output_type": "execute_result",
          "data": {
            "text/plain": [
              "0.7071067811865476"
            ]
          },
          "metadata": {
            "tags": []
          },
          "execution_count": 24
        }
      ]
    },
    {
      "cell_type": "markdown",
      "metadata": {
        "id": "_pRmxQUfHGcn"
      },
      "source": [
        "**Exponentiation:**\r\n",
        "This type of arithmetic operator basically calculates values in exponential (power) form. The variable that is in the right hand operand is considered as the exponent.\r\n",
        "\r\n",
        "\r\n",
        "![image.png](data:image/png;base64,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)"
      ]
    },
    {
      "cell_type": "code",
      "metadata": {
        "id": "uf_0sf4CZ1JT",
        "colab": {
          "base_uri": "https://localhost:8080/"
        },
        "outputId": "e367c9d1-3d37-446c-f1d3-c7fe84e8d073"
      },
      "source": [
        "### Modulo\r\n",
        "mod = d%a\r\n",
        "mod"
      ],
      "execution_count": 29,
      "outputs": [
        {
          "output_type": "execute_result",
          "data": {
            "text/plain": [
              "0.0"
            ]
          },
          "metadata": {
            "tags": []
          },
          "execution_count": 29
        }
      ]
    },
    {
      "cell_type": "markdown",
      "metadata": {
        "id": "HWKwFNcjHtkH"
      },
      "source": [
        "**Modulo:**\r\n",
        "In this arithmetic operator it divides from the left hand operand to the right hand operand which is similar with the other two divisions that we encountered, but modulo returns the remainder.\r\n",
        "\r\n",
        "![image.png](data:image/png;base64,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)\r\n",
        "\r\n",
        "In this case we won't really see the difference. If you look at the next figure, you will see how modulo is use:\r\n",
        "\r\n",
        "![image.png](data:image/png;base64,iVBORw0KGgoAAAANSUhEUgAAAvoAAAHcCAYAAACnAg5jAAAgAElEQVR4Ae3dz4sc2WEH8P4X/LfoX/Al5CbQ1bAXH/cUcrCND0I5BAyGDWsYkuvsYU2wJZzcFrSwaI1Z22hFFkIQhMhCbNaQQwITJ7FfqF9dv17VVHfXm9dT/TGMp6e7+r2qT31n+1s11a3d//33m+CLgQzIgAzIgAzIgAzIgAxsKwM7O3RbO9T+tD9lQAZkQAZkQAZkQAaKDCj6/qLhLzoyIAMyIAMyIAMyIAMbzMDu5uYm5Pp6/fp18D8CBAgQIECAAAECBNYT+NMf/xD++D/fBEV/PVMjESBAgAABAgQIEDgbAUX/bHaFFSFAgAABAgQIECCwnoCiv56lkQgQIECAAAECBAicjYCifza7wooQIECAAAECBAgQWE9A0V/P0kgECBAgQIAAAQIEzkZA0T+bXWFFCBAgQIAAAQIECKwnoOivZ2kkAgQIECBAgAABAmcjoOifza6wIgQIECBAgAABAgTWE1D017M0EgECBAgQIECAAIGzEVD0T9kVnz8Ju90u7B5dh3enjOO5swIvHi8wfnMdHu524cnns0N58A4Fvv7Hh+HjR0/CVwvn/Opvd+HjR7vw7B/v7rcpx5xzHIeazY118GMvn5T+H3/vOnx98JM9IZR+D8Mv/31o8S788ntVtj95OXzs8J9Xzax9fvgO8AwC90xA0Y/ssEXFsnjeXRf9iyyzL8KTBQX+3UcPHXBFspzzrkNL66oFZuGG3/Wc5XwzRfpQs4WbuWyx1Urfi/DJHR+wLdvAxEsp+omB78/wWX+P7w+TNb0jgTRF/8un4erqKlxdPQ2vbm7CzcTX69ev72gzD5tmcdE/bNjTlz7Dov+rq2+Hb3136uv98NMTT86WBX73JLyY1asOBh5+dMxkvw0/Gq3/6es9u7rZHqwK2P6sYlFMZkpnfDWrMYoz71NfzRl5L3ZjwbMu+uPVPfIeRf9IOE/biID/9m1kR25kM1Yu+q/C06LgP3sVXj1T9FfPyBkW/altLA8Afvj0xEsA3oXrR7uwezxf86u/rDwM12+m1uaw+6uDly2W/aKAtZcWlC9GBxf9vuXcC9rcY/1RLucnRX/D+3ryjP6Gt9mmRQX8ty/K4s5MAisW/bfh+fVVePpldQZ/raJfnl0vroPvfnWKX/yMb/wMb7VsZ6zOOKEu0b15unN2r8NvLtlpHu+OM9yRtyzbXnJSrXMzf/fsdNSgmXvBZS3DVUr+87un4Tvf/Xb4zi+OOcPeWbvS7rYCv/BgoDPsrTfr9f/Rb25d8n4t8O/X4VnnmvmydP7tLQdRt2zh3Ata+1j/rwDNGf9m6HI9On8h2P/FoVmg83247HCszqKzN4fjTM/ZX/ePOwdKsxN0Hyzdp/8C0v2rylKzcvjmUpvG7th9uWScchuqg8SeXedAsVr36e0c7asl84b2+vbhX5D64w330/C9IfU4hdFgf/TH6e64W24PxqnWrz2QDqN17z5Wj12PEVuHyrN9Ts/90S5MZzaE4bKj8RfZV+s42q+DnJWPlzno74PRnLdwdh++bf0PmvPWba3Wu1zfwbIj48Hj/fcg9bd/mNf+ssXWDpdv93VjUdkXWR78HnR+75plfScwJbBi0e9fonN60a8LXLdgh3GpW1b06+f1LgGpi3Vv/Ipp+aU74/XpQlfr1i2q9ZydA4P24KOzXH1wMHpj6T05o1+dEf8g/KqLccTtRfshhcnWin60kPQL2bEvyu0L0XgHV49V8+xfMMsXyvELWvnsej33yw6GrF78+wXuq7+dGGvw3MkfZ+esX4h7xeZF+OSEF9lyG2aev9SsWq677bF1ndzqiQc6ZXi4RCdDbVam5qzub5cbDhbCsvWv16fj1fj0MlKvW3e+cVa6RanjVhe33njj1R3fE3veXLYnHxtvYzXZ7ftiap3H214U/84297ZmZp59uez+ztX7PLJPegfBMZ/evFM/jMffH5h1fg+bHBRleu8QmXNZzuo5ywPmdltHzy1y1lmH9kCufU6zVdVzx/c3j1dv3O5/8ECzTfvtCc3vSfXf0Dbf9fr21mU/shsERgLnW/SjZ3PHxXpR0Y+O1b6ZdlioFxXMknK8Pq1w/K8Kw8tMmqLfX4eJ565SapuDns5fNjp/HTj5E4TWOpsfKoO+S6vb3Cr9IgdrzeOHf38XfvrDb4dvnXzZ0eEzJ39G8UK4f4GuXuDbF4/jZp97QYu9cDVnsaLzzpbuuUJy3LqXz5qbc+6xI6dcWvS7L/Zjs+qFfmQ4WSaXruyMcW3x8aBcxLdnYv32qzHx+HD9o/7jkrNsHept6/xFq1qdiXXZr2vsxoTTcP27T515rPo9GRTx6LbXA8491pTzwX7qrkr/9sS2FAtNrXN5f1uwD/49769A76ep/54MjeJzDrdlYt+OtqvO1P6/jfUqzTrXywwsmo2Z2o7q8eF6Ns+q7++sR3w767/YdJZrRvCdQEzgbIt+vGyPi/WSol+O1Tub31DEC3V87uY53e/j9dk/OnVwMSjrS9Z/P+bgufv7z+jGWmfz4y7DDY3vv+FSt/9cl/v9m3JP/2vE7XPe/RLli8b+xaF6cesXysPXae4FLf7YxItvMfUtL6zVmcpdGJbNw9e684zZOesC0D1r2HnqMTfjpbQdaZHZqKjUz5/dlnaO6VtTBWR638S3Z2YfF5MvXf9oiRqOPfy52brhtoxLVLPkwd+nnKe2a26by8nH2xDPQb2mU/PXDx/2ezJ0qgcJzeU/sbPS/fWNr2t/mXbUuVsz+2iwzfE5BwV4an8MxmoOpI/678porGr7ptavfLR+zuhAfX8GvzWvxhkcBM4ReoxAROByin70rG9VFIdv9lyj6FdFdeKseee6+nihnSiw5170VzubXx1Add+nEMlu/fGmt30iT/SZ83f+5oPyk4ROfo/B/Cx3/mj5orE/01e9EN+nol+AVS987WVHsRfLg2AnXqjbMery0VwHf8w1+u1g1bXT+4OtzgP1zXhB6JemocHwWuDj9+l06Zs6CDum6C9f/3Hxq57bKT71/hsa7H/e53081lh/4T1TmZkqlsWwc481pXqfi2pdJ7M9NX9n9YfGk2PN/AUgvm+LSao8NsW4mqstp9Vq9DPbWbWZm7fnr9mO+Jz9oj802Gei/l1uf0/62zOzgqP3PjRjtmNVz55av/LRmf1XPa/N9/DnuXXzGIEpAUV/twvDQrlG0R9eojO1A+6+6Ke7dGets/nL7Gb+mjKFfcD95bZs5PKd/Rm+fVlti3L1QjV8kV4ONfeCFn9spgDMvACO16guBad+Xvshc9bL9q5FHq/Y7D3T5al62iKzW0rj7ArMPnh70RoWmvj2zOzjYv7F618XsF5u2xJUbcotc+23t962fZneP3D4janMzG3X3GPFGnQfL8cfbmdnNafm7yzS3rzt92R6n8f3bTFy33xRZtsVmrk1vS7DA834nP2i3zOdmbXZnubAZWrR6r+jg/0ysS+m1q8ce+I5xWPD51U/D+acWkH3E5gQONuiHy3A9ZtUu2fg55bbF/ipy2gm7o+OGQWcKZsLz77H55o4o19ft77frug6ZbpztbP5ISw60Froe6zGlop+ZVC9iDZnxKoXweMLfuM6fGFq7i++xx/rl4Tu8sMX895j0R9mikF0+cidMy+6kaVvvbwo+pzOnXGTdoH44wOzQ9e5Hf6WWzOeE3PGy+DMOMUaTIw1XLm4xXCpW+baL14vt0bRHxTdaop6/Km/+HSL/H6dujeq5xe/n+V2z63nQr929Dmjmcem1nlwf3w/DTLbrszsrfhY4/+WxJcbzLnYqXrefNGfWGZqjoFRf6OnzMf3V9up6Pf9/HSowNkW/ebjLveltix2D8PD4eeq1+V//6bN5mCgd6a+LuS9y3fil+2UgPUY+7knVWeKfnHe43Fx6U7n03Qi4xxW9Ov5ou83iAx+h3etdjZ/YYFfdDBw5PZ//Yv3y0t3tvXxmtWLyP6MbPFCNFcmFtrFX3CrJ8cfG7wYd+eZetEsl4l82k29/P7gpTvW0ttzc758EoZjn/zCWxaA/qdtdFd1qVn07GJ3oKNuj4vGfpgJp3jRb67vni4oi9Z/tizt16w+Gz5tWi1Zb9sKmS/Gq9a/PVCuHB6GZ0cX/brMfu9J+OR77RtdO1vZ3pzYF9UCh/6ezOzz5rKentm48C7NbLsBc7fG4zcHht3fxdicw31SzLIoZ4NLkeJrVzt138xd/y4XfxXd/3e1eXK9jyYPHurndp8X+29L7L5mCt8JLBVYtehXH6lZ/ENZka9nr0b/Qu6t/zJup7TvynIbL9ZVWW6uhy+u2a6W6xf1piQ3y40v2emi9cfche6n0VQFvh2n+ez74vv+gKMebDRO8Qk3nQOOw4p+MWh9gNL5pJzhnN3tuJPb9dn8b1399uTp4h7DYaf+4jFcbsHPzbrv34i70U/cqV/MmheW8gWk9wK+wCqySOwFt1ks/tiw6Ncv7L3LM5pLi9oiVY7ZvHh2lm22p5lz2fflc1bb0KxP8X2wTssm7C01GrOzH5aZVcONxilcOmP1Jp35oSpD3W1sb+99J8plVXCvI/8wXlOM2rG6Ra1YnSXrP7lu+2vv6w2LZKN/idW6Rb/9aMVq+8ptK9ehc3ATXafaI7af9svHMrY8s00xbq4fjxXRSddRaV26H4frPPw9nwng6KHxtu5zWC+7JDvNsLcvW883zFQzwP77YL2KfVjvs+H6lU/pHAhEL5G87fH970gnU/t1cYPAcoFVi/7NTf+z9G/7+daiP9qOeNEfLeaOeyoQO0CLbEp5AJjgTbiRqdxFgEAegaqMRkpOXZCGBw551tKsOQSq8j48uMixJuYkcP4Civ7576PLWcOywM9f6lScSbseXr51OUK2lMCFCMycga/Poir6FxKFyGYq+hEUdxGYEFD0J2DcTYAAAQL5BOJn9JtLSSJn+vOtqpnvWEDRv2Nw091rAUX/Xu8+K0+AAIHtCkSvJY9d375dAlsWEVD0IyjuIjAhcM+K/sRWuJsAAQIECBAgQIAAgZ6Aot/j8AMBAgQIECBAgACBbQgo+tvYj7aCAAECBAgQIECAQE9A0e9x+IEAAQIECBAgQIDANgQU/W3sR1tBgAABAgQIECBAoCeg6Pc4/ECAAAECBAgQIEBgGwKK/jb2o60gQIAAAQIECBAg0BNQ9HscfiBAgAABAgQIECCwDYGLK/ovH38cHuw+Du9/9PXd78HPn4Td7kl4cfcznzTji8e7sNvtwsOP3p00zppPLtfp8X2TXFPAWAQIECBAgACBeQFFf95n+tE3vwzv7z4OP/58epHeI2+uw8OzKssvwpOF63PXRf/dRw9vPyA6O8/e3vYDAQIECBAgQCC7wOpF/9Wzq3B11fl69irc3NxEv16/fp0d4OgVOKjoV6V6d1ZnoJcX/aONjnzioqJfjF3+hWQXniw92DpyfTyNAAECBAgQIHAfBVYt+mXJ7xb73z0P10Xp797XKf2XUvQXF9c7TdAGin4Iofprw/27HOpOd7XJCBAgQIAAgYsUWLXox87cV2f4n4ZXnYLfLDdb9Msz5s/Cz9+E0FxXX1xb/+DRL8Pvu7vq80/Cg11kud0n4WVnud4YU5fcLJhzOE65TsV61V/jS3mWFOr6jP+uuha+uB6++OqeqS4L7aPr0LtKvr58pbtcscnNpTbNON1r66uDjv48zXLF9+6yw3GG83R4w3Dc7jj7dSr+olGvczNnO2bcoFlu8r0NLuHp7ga3CRAgQIAAAQJ7gTMv+nWBfvxVvcJfhR8XhXr/c3H5RlH0h8t9HX7+KHJQUIwyd8lN/VgxXvtm3cict42z520uL3kYrt907+zcjhXVSIFfVvTrstw9IGiK9eiyoSUHIPV6RtanswXjs+qRbWoPGtqz79XBwdjmsL+AvAvXj3Zh193m7sq5TYAAAQIECBC4UIHERf9teH59Fa6un4e3R53RH5T6EMLvP3oWHnTP1tdFvy3m1Z4cLdfs4CVFv3sgEeq/KAz/kjA3TjNXc3Z9poQuK/D1WfrhOIMCPlWQ44V6paI/WIdm04frUhX9Qalf+NxmzKnvw7mmlnM/AQIECBAgQOCSBJIW/befXpdvzL3+9O3hb8adKtKdS3XKHVUX/fElMxO7cWrcYvGJx8rLdY4q+vXZ5tHZ9GbdJsp2pADffkAwc2Y7Ml4IE3M3q9b9Hn1+tcBkyS7fKNsW+9vXv51wcsx2kf6twVz9B/1EgAABAgQIELhMgWRFvyn5U2/ELa7Tv/0a/cjHVyr6bVJ7BXzmoKJern/d/DpFvzpTP3XNv6Lf7iy3CBAgQIAAAQJ3K5Cm6H/5tPqIzYlLdpa/GVfRb+Jw+xnx24t++8bXYtR1iv7Ss++3r3+zpaF+Y297LX/7yMQtZ/QnYNxNgAABAgQIXLLA+kV/Yck/9oz+6DKaXJfuhOpNusP3BgzDFC24+4Xi5bw5S94t5rFxqpLdfjrPVOmO3x+fe79q3Ru9vxx0H1jwZuN68dj6N5/A093OcvEDi3t8+wbr6UcCBAgQIECAwIUJrFv0Dyj5RxX9WKmP3Te3Eyeuwy+fMvHY6OCiXLj+ZJ/uG4Nj895SWquS2l7iUv786GH5r+h2C3B0udHHcFZn6Xv/MFf0sp1qRasDinbu2OqX980V/VAfMOzmz8AfVPTr+XrbMbly9fzDNypPLu8BAgQIECBAgMBlCKxY9OtP2On+q7jd25F/NGvJNfr7j84sP0Kz+rz83q5ZVPTrj8hsPoaz973zefsHFf1iLcbjjt8UfPslMlXhrq9z73zWfLfoF7P1liuLbTV2f7m67Hc+k7//eFevKentNfbtdfzjceY+0763bs3cnTchH1T0i1UsD5Da9brtc/Snt7G7vW4TIECAAAECBC5HYMWifxP9ZJ3mevzY9yVFf1yc79/OGZ6Nv3ULZs+g3/rsi1ogegBxUQI2lgABAgQIECAQF1D04y4r31ufHV96eYmiv8y/PuvvbP4yLksRIECAAAEClyWg6N/V/j7kunNF//a9Uhu1lxrd/hRLECBAgAABAgQuSUDRv8u9XZ6Bnn/Tark6iv6te6W8ZKfzHoBbn2ABAgQIECBAgMCFCZxv0b+wHWFzCRAgQIAAAQIECKwpoOivqWksAgQIECBAgAABAmcioOifyY6wGgQIECBAgAABAgTWFFD019Q0FgECBAgQIECAAIEzEVD0z2RHWA0CBAgQIECAAAECawoo+mtqGosAAQIECBAgQIDAmQgo+meyI6wGAQIECBAgQIAAgTUFFP01NY1FgAABAgQIECBA4EwEFP1TdkT5D2Dtwu7RdXh3yjjD5/oHs4YinZ/fhetHu7DbVV9PPu88FF6EJ7td8K/ldk3cJkCAAAECBC5VQNE/Zc8r+qfoHfXcdx893B9YdW8Xg5X/Wu7aB11HraUnESBAgAABAgTyC6xa9N9+eh2urq76X89ehZubm+jX69ev8wuc4xps7Yz+u6fhO9/9dvjW1NfVbxfvhbLMP35RLV8eaD0J5U/l7Yfh+s3ioeoFfxt+NFqv98NPV/0TzaHrZHkCBAgQIECAwOkCqxb9UaH/3fNwXRT/ibKv6E/swK0V/YnNDPUBwI9+M7XA+P7uWfz29rqX7PzqqjgoUfbH+u4hQIAAAQIE7pNA2qJ/cxNePbsKV9fPw9vIWf35ot8pb80lMtHrsgvu/nXbu13/zG5zFrgshsUYxRnhukwX13r3r/MejhW55nuwPuV4o71erX8x9n7ecv3rM9C95atlm+vOm+/99SqeMFxuONYhZr0VyPJDVag/CL86aPauQbWf28J/0EDTCx9xADI9mEcIECBAgAABAnkEzr7oV6W3LbRVae4W+br4NZdzFLW/uI67U/ara7cfhofFMvUlHg8fFWPUpb7z3BePu2OHevlI2S/31/j57W7sFNL9+PXy3evI6wOO3htIY2f0I8uV27VrbfoHAu39Q492HTPeqsv0d35x4jUyMatTN0vRP1XQ8wkQIECAAIEzEEhb9L98Wl6v//TLY67Rr4tytxQXYINiV5XYttRWpv0CXhXiusDXZ+OrYh0p3qOdMrdMf57+U+PrP1zf6iBk8Kk9g20sxo0uN/qUmficQ7P+ek78NPyrRf3XlOm/NkyMM3H3cWfzh4PN+Q+XXfrzu/DTH347fOuHT8PXS59iOQIECBAgQIDAGQqsX/Trct+8Kff607fRN+IW1/MvuXQnfllMIzld9LrFuHu7OqPfXK4zV+KbOaZKdvH49PzN2fXemfr9XxuaA5OqmA+XGRfzieVG89dFf/8XhHYbzurWWmfzy4ORxvKULazL/f5NuYdeTnTK3J5LgAABAgQIEEgjsH7R712L/zY8vy4+hedpeNW7vzrDf3rRr4vt4Gxzc9a5+Xz7g4p+fTZ9P0Yz9vAvC+X+uKOiP7VOzbrti/39KPrrnM3vHPx0faL76cBfnt98UH5C0MmXFR04rcUJECBAgAABAmsKJC76N+Gm/uSd2OU7pxf9uaLdMi0u+k1h3Bfnaoze89thz+CMfm9l2jfrDtZ/uNSin1NdurPS2fx2n1SFv3rjcpWH0V9IFm1wf6HyYMTlO30UPxEgQIAAAQL3SuCeF/25y2ra/dCWwvbNtd1i2Jz5n3rTau/57bArFP34gUo5X+/TgOLL9Val/OH8z+ivcja/PAip33NRHpy1b6Au7VY40FH0x+lyDwECBAgQIHC/BBIX/VfhafE5+id8vOb8Nfrtm3PnlusV9fpMdazoN9fvt2eE64JdXCITvSRkroB3Li3pZGL4ZtzhwUX586OH4WGv6LcHKO26dQbd3zzzor/K2fzKvHXontGPm+95Ft74+hfvl5fuHPL5/guHthgBAgQIECBA4M4EVi365WfmD/5l3NglO80/rHX6pTuNU11wm2vW6+/N59AvLvr7N8vuQnONfjFG7/nNJ+AM5uouX61VvHQOi36xbDl+M155NrpbXptt7BzUNMuW39uz2c0bgOcOejqj3fnN6mz+af8QVWU1eANu9zKjQ8/m1wcfvX+11yU7d54NExIgQIAAAQLrC6xa9JsCv/T7fNFff2ONSIAAAQIECBAgQOBSBBT9S9nTtpMAAQIECBAgQOCiBBT9i9rdNpYAAQIECBAgQOBSBBT9S9nTtpMAAQIECBAgQOCiBBT9i9rdNpYAAQIECBAgQOBSBBT9S9nTtpMAAQIECBAgQOCiBBT9i9rdNpYAAQIECBAgQOBSBBT9S9nTtpMAAQIECBAgQOCiBBT9i9rdNpYAAQIECBAgQOBSBBT9S9nTtpMAAQIECBAgQOCiBBT9i9rdNpYAAQIECBAgQOBSBBT9S9nTtpMAAQIECBAgQOCiBC6u6L98/HF4sPs4vP/R13e/oz9/Ena7J+HF3c980owvHu/CbrcLDz96d9I4oyeXHg/D9ZvRIyvd8S5cP0qw3iutnWEIECBAgAABAikFFP1jdd/8Mry/+zj8+POFA7y5Dg9TlOWF05+y2P0t+iGE8mBiF54s3U+nQHkuAQIECBAgQOCMBNIV/d89D9dXV+Hq6io8/fIm3NyMv16/fn1GFAeuykFF/0V4stuF3eP7di7/QJNDF09+Rr9aoXcfPQy7Xcq/HBy64ZYnQIAAAQIECKQXSFT034bn11XJV/RDqIrm/btkJ3n87qjoh1BdwrN7dB1WvvgoOZEJCBAgQIAAAQLHCqQp+l8+DVdX1+H5l9VZ/aPO6JdnzJ+Fn78Jobmuvri2/sGjX4bfd7f280/Cg11kud0n4WVnud4YU5fcLJhzOE65TsV61V/jS3mqs/mT17d3ym5ziUxxPXz8Wv76LwPl48Nl2uvRm3HKOetLV0ZntOtLiaq5irHGZ7ybcZplope/lONUz+0tHyvVoznj8zaX2zTzjv4ScpBZHYLaIboNnZy4SYAAAQIECBDYikCCov8qPL26Ctefvg039eU7xxf9ukA//qr2/ir8uCjU+5+La7CLoj9c7uvw80eRg4JilLlLburHivHaN+tG5rxtnG46OqW0e/f+9r6Idy/tiZyBjlzjXxXr5i8FddF/9LB802z5V4Tidvnm3+HBxovwZFDEq7HGZb9cz3ruaEnulPf2YCZyqVKsaEdsxpfZTI9VHgjsL4eKmO2RixuRcXqP+4EAAQIECBAgsC2B1Yv+q2dX4er6eXhbXJO/RtHvlvoQwu8/ehYedM/W10W/LebVDhot1+y3JUV/MGd5Fn/4l4S5cZq5inpZfGLNoFR3Ht6/WbQtydWjw8t94uN0C3xddOtP9ame37wJdUHJjRxI7NdzSdHfF+7qWf31rddtsEx15r57cNHdnv3stVFnufqg4Tazzgjlzf46DR/1MwECBAgQIEBgWwLrFv1hsR/+PHhD7uybcaeKdOdSnXJX1EV/fMnMxI6aGrdYfOKx44v+RMHtrlrsTHf38fL2RAFurj0vC3R/rv6Z8QVFvz7jPSzP5fQLiv7wbH+vVE89f3hGf/hz4zB8/iKz5snt9+HBU/uIWwQIECBAgACB7QmsWPTrN+A+e9V+wo6iX36O++ga826OlpTWuujur1nfX6NfXOPeXPJzWNFvzvgPx8xZ9KfWqVnH/cHEErOucX1b0Y+guIsAAQIECBDYrMBqRf/tp9fh6uppeNU9a6/or1P0586276O5vOg3hXpfnMsxpv5qUPylo/o3APrL1xNPPLbqGf39NtY3FP2hiJ8JECBAgAABAiOBlYp+/+M0i4/UjH0N35R7zKU7o8tocl26E6o36Q7fGzAU7hXe4YPFz4tKa7/Ex4bZf4RkfR18Veab69q7l+7UY43eN5Cw6EcPVOr16H7az8RBw2h7F5mNnnX7+yXGT3EPAQIECBAgQODeCqxU9Mf/GFb5D2StfUY/Vupj983tjonr8MunTDw2OrgoF64/2af7xuDYvGUpbQp3ZIGlpbVeLnppTTls/ydRJhEAAB9VSURBVGBguujXbxCOFOziEpno+HMFfOKx4QFO+XP9RuFidavHi08F6ttUy/XvG6ktNes9sXuw03vADwQIECBAgACBTQqcfdHff3Rm+RGa1efl9/bEoqJff0Rm8zGcve+dz9s/qOgXazEed/ym4Jkz5cUQh5TWulQ316xX35tSvLzo78/+76/1Lz6ic7iedTHeL1O/H6D8uflIz+nLeoZFfzhneUBRbk+z/u1ebS4t6m1n9y8Qh5g1w5bPGc/VPOw7AQIECBAgQGBrAmmLfvd6/cjtYy7duY87oH92/T5uwX1f5/5B0H3fGutPgAABAgQIEFgioOgvUTp5mfrsePes9MljGmCpgAOtpVKWI0CAAAECBLYkoOjf1d5sLrsZ/qNRdzX/pc5zzGU+l2pluwkQIECAAIFNCSj6d7k7y9LZub79Lue+yLmqS3aibzC+SA8bTYAAAQIECFySwPkW/UvaC7aVAAECBAgQIECAwMoCiv7KoIYjQIAAAQIECBAgcA4Civ457AXrQIAAAQIECBAgQGBlAUV/ZVDDESBAgAABAgQIEDgHAUX/HPaCdSBAgAABAgQIECCwsoCivzKo4QgQIECAAAECBAicg4Cifw57wToQIECAAAECBAgQWFlA0V8Z1HAECBAgQIAAAQIEzkFA0T+HvWAdCBAgQIAAAQIECKwsoOivDGo4AgQIECBAgAABAucgsGrRf/vpdbi6uhp/XT8Pb29uws3g6/Xr1+dgYB0IECBAgAABAgQIbE4gQdF/Gl4NCv2w4Dc/K/qby5MNIkCAAAECBAgQOBMBRf9MdoTVIECAAAECBAgQILCmgKK/pqaxCBAgQIAAAQIECJyJQIKiP7hGf+L6/OLyHZfunEkKrAYBAgQIECBAgMDmBFYt+s219+33V+Fp+ebc+HX7iv7m8mSDCBAgQIAAAQIEzkQgcdG/CTdfPi0/hefplz5150z2udUgQIAAAQIECBC4AIH0Rf93z8P11VW4/vStj9e8gEDZRAIECBAgQIAAgfMQSF70q8/Wvw7Pf+eM/nnscmtBgAABAgQIECBwCQJpi3592U7sbL43415CvGwjAQIECBAgQIBALoFVi/6rZ4NP3LmKn8lv3qzrzbi5drt5CRAgQIAAAQIEti6watFvCvzS74r+1uNl+wgQIECAAAECBHIJKPq55M1LgAABAgQIECBAIKGAop8Q19AECBAgQIAAAQIEcgko+rnkzUuAAAECBAgQIEAgoYCinxDX0AQIECBAgAABAgRyCSj6ueTNS4AAAQIECBAgQCChgKKfENfQBAgQIECAAAECBHIJKPq55M1LgAABAgQIECBAIKGAop8Q19AECBAgQIAAAQIEcgko+rnkzUuAAAECBAgQIEAgoYCinxDX0AQIECBAgAABAgRyCSj6ueTNS4AAAQIECBAgQCChgKKfENfQBAgQIECAAAECBHIJKPq55M1LgAABAgQIECBAIKGAop8Q19AECBAgQIAAAQIEcgko+rnkzUuAAAECBAgQIEAgoYCinxDX0AQIECBAgAABAgRyCSj6ueTNS4AAAQIECBAgQCChgKKfENfQBAgQIECAAAECBHIJKPq55M1LgAABAgQIECBAIKGAop8Q19AECBAgQIAAAQIEcgko+rnkzUuAAAECBAgQIEAgoYCinxDX0AQIECBAgAABAgRyCSj6ueTNS4AAAQIECBAgQCChgKKfENfQBAgQIECAAAECBHIJKPq55M1LgAABAgQIECBAIKGAop8Q19AECBAgQIAAAQIEcgko+rnkzUuAAAECBAgQIEAgoYCinxDX0AQIECBAgAABAgRyCSj6ueTNS4AAAQIECBAgQCChgKKfENfQBAgQIECAAAECBHIJKPq55M1LgAABAgQIECBAIKGAop8Q19AECBAgQIAAAQIEcgko+rnkzUuAAAECBAgQIEAgoYCinxDX0AQIECBAgAABAgRyCSj6ueTNS4AAAQIECBAgQCChgKKfENfQBAgQIECAAAECBHIJKPq55M1LgAABAgQIECBAIKGAop8Q19AECBAgQIAAAQIEcgko+rnkzUuAAAECBAgQIEAgoYCinxDX0AQIECBAgAABAgRyCSj6ueTNS4AAAQIECBAgQCChgKKfENfQBAgQIECAAAECBHIJKPq55M1LgAABAgQIECBAIKGAop8Q19AECBAgQIAAAQIEcgko+rnkzUuAAAECBAgQIEAgoYCinxDX0AQIECBAgAABAgRyCSj6ueTNS4AAAQIECBAgQCChgKKfENfQBAgQIECAAAECBHIJKPq55M1LgAABAgQIECBAIKGAop8Q19AECBAgQIAAAQIEcgko+rnkzUuAAAECBAgQIEAgoYCinxDX0AQIECBAgAABAgRyCSj6ueTNS4AAAQIECBAgQCChgKKfENfQBAgQIECAAAECBHIJKPq55M1LgAABAgQIECBAIKGAop8Q19AECBAgQIAAAQIEcgko+rnkzUuAAAECBAgQIEAgoYCinxDX0AQIECBAgAABAgRyCSj6ueTNS4AAAQIECBAgQCChgKKfENfQBAgQIECAAAECBHIJKPq55M1LgAABAgQIECBAIKGAop8Q19AECBAgQIAAAQIEcgko+rnkzUuAAAECBAgQIEAgoYCinxDX0AQIECBAgAABAgRyCSj6ueTNS4AAAQIECBAgQCChgKKfENfQBAgQIECAAAECBHIJKPq55M1LgAABAgQIECBAIKGAop8Q19AECBAgQIAAAQIEcgko+rnkzUuAAAECBAgQIEAgoYCinxDX0AQIECBAgAABAgRyCSj6ueTNS4AAAQIECBAgQCChgKKfENfQBAgQIECAAAECBHIJKPq55M1LgAABAgQIECBAIKGAop8Q19AECBAgQIAAAQIEcgko+rnkzUuAAAECBAgQIEAgoYCinxDX0AQIECBAgAABAgRyCSj6ueTNS4AAAQIECBAgQCChgKKfENfQBAgQIECAAAECBHIJKPq55M1LgAABAgQIECBAIKGAop8Q19AECBAgQIAAAQIEcgko+rnkzUuAAAECBAgQIEAgoYCinxDX0AQIECBAgAABAgRyCSj6ueTNS4AAAQIECBAgQCChgKKfENfQBAgQIECAAAECBHIJKPq55M1LgAABAgQIECBAIKGAop8Q19AECBAgQIAAAQIEcgko+rnkzUuAAAECBAgQIEAgoYCinxDX0AQIECBAgAABAgRyCSj6ueTNS4AAAQIECBAgQCChgKKfENfQBAgQIECAAAECBHIJKPq55M1LgAABAgQIECBAIKGAop8Q19AECBAgQIAAAQIEcgko+rnkzUuAAAECBAgQIEAgoYCinxDX0AQIECBAgAABAgRyCSj6ueTNS4AAAQIECBAgQCChgKKfENfQBAgQIECAAAECBHIJKPq55M1LgAABAgQIECBAIKGAop8Q19AECBAgQIAAAQIEcgko+rnkzUuAAAECBAgQIEAgoYCinxDX0AQIECBAgAABAgRyCSj6ueTNS4AAAQIECBAgQCChgKKfENfQBAgQIECAAAECBHIJKPq55M1LgAABAgQIECBAIKGAop8Q19AECBAgQIAAAQIEcgko+rnkzUuAAAECBAgQIEAgoYCinxDX0AQIECBAgAABAgRyCSj6ueTNS4AAAQIECBAgQCChgKKfENfQBAgQIECAAAECBHIJKPq55M1LgAABAgQIECBAIKGAop8Q19AECBAgQIAAAQIEcgko+rnkzUuAAAECBAgQIEAgoYCinxDX0AQIECBAgAABAgRyCSj6ueTNS4AAAQIECBAgQCChgKKfENfQBAgQIECAAAECBHIJKPq55M1LgAABAgQIECBAIKGAop8Q19AECBAgQIAAAQIEcgko+rnkzUuAAAECBAgQIEAgoYCinxDX0AQIECBAgAABAgRyCSj6ueTNS4AAAQIECBAgQCChgKKfENfQBAgQIECAAAECBHIJKPq55M1LgAABAgQIECBAIKGAop8Q19AECBAgQIAAAQIEcgko+rnkzUuAAAECBAgQIEAgoYCinxDX0AQIECBAgAABAgRyCSj6ueTNS4AAAQIECBAgQCChgKKfENfQBAgQIECAAAECBHIJKPq55M1LgAABAgQIECBAIKGAop8Q19AECBAgQIAAAQIEcgko+rnkzUuAAAECBAgQIEAgoYCinxDX0AQIECBAgAABAgRyCSj6ueTNS4AAAQIECBAgQCChgKKfENfQBAgQIECAAAECBHIJKPq55M1LgAABAgQIECBAIKGAop8Q19AECBAgQIAAAQIEcgko+rnkzUuAAAECBAgQIEAgoYCinxDX0AQIECBAgAABAgRyCSj6ueTNS4AAAQIECBAgQCChgKKfENfQBAgQIECAAAECBHIJKPq55M1LgAABAgQIECBAIKGAop8Q19AECBAgQIAAAQIEcgko+rnkzUuAAAECBAgQIEAgoYCinxDX0AQIECBAgAABAgRyCSj6ueTNS4AAAQIECBAgQCChgKKfENfQBAgQIECAAAECBHIJKPq55M1LgAABAgQIECBAIKGAop8Q19AECBAgQIAAAQIEcgko+rnkzUuAAAECBAgQIEAgoYCinxDX0AQIECBAgAABAgRyCSj6ueTNS4AAAQIECBAgQCChgKKfENfQBAgQIECAAAECBHIJKPq55M1LgAABAgQIECBAIKGAop8Q19AECBAgQIAAAQIEcgko+rnkzUuAAAECBAgQIEAgoYCinxDX0AQIECBAgAABAgRyCSj6ueTNS4AAAQIECBAgQCChgKKfENfQBAgQIECAAAECBHIJKPq55M1LgAABAgQIECBAIKGAop8Q19AECBAgQIAAAQIEcgko+rnkzUuAAAECBAgQIEAgoYCinxDX0AQIECBAgAABAgRyCSj6ueTNS4AAAQIECBAgQCChgKKfENfQBAgQIECAAAECBHIJKPq55M1LgAABAgQIECBAIKGAop8Q19AECBAgQIAAAQIEcgko+rnkzUuAAAECBAgQIEAgoYCinxDX0AQIECBAgAABAgRyCSj6ueTNS4AAAQIECBAgQCChgKKfENfQBAgQIECAAAECBHIJKPq55M1LgAABAgQIECBAIKGAop8Q19AECBAgQIAAAQIEcgko+rnkzUuAAAECBAgQIEAgoYCinxDX0AQIECBAgAABAgRyCSj6ueTNS4AAAQIECBAgQCChgKKfENfQBAgQIECAAAECBHIJKPq55M1LgAABAgQIECBAIKGAop8Q19AECBAgQIAAAQIEcgko+rnkzUuAAAECBAgQIEAgoYCinxDX0AQIECBAgAABAgRyCSj6ueTNS4AAAQIECBAgQCChgKKfENfQBAgQIECAAAECBHIJKPq55M1LgAABAgQIECBAIKGAop8Q19AECBAgQIAAAQIEcgko+rnkzUuAAAECBAgQIEAgoYCinxDX0AQIECBAgAABAgRyCSj6ueTNS4AAAQIECBAgQCChgKKfENfQBAgQIECAAAECBHIJKPq55M1LgAABAgQIECBAIKGAop8Q19AECBAgQIAAAQIEcgko+rnkzUuAAAECBAgQIEAgoYCinxDX0AQIECBAgAABAgRyCSj6ueTNS4AAAQIECBAgQCChgKKfENfQBAgQIECAAAECBHIJKPq55M1LgAABAgQIECBAIKGAop8Q19AECBAgQIAAAQIEcgko+rnkzUuAAAECBAgQIEAgoYCinxDX0AQIECBAgAABAgRyCSj6ueTNS4AAAQIECBAgQCChgKKfENfQBAgQIECAAAECBHIJKPq55M1LgAABAgQIECBAIKGAop8Q19AECBAgQIAAAQIEcgko+rnkzUuAAAECBAgQIEAgoYCinxDX0AQIECBAgAABAgRyCSj6ueTNS4AAAQIECBAgQCChgKKfENfQBAgQIECAAAECBHIJKPq55M1LgAABAgQIECBAIKGAop8Q19AECBAgQIAAAQIEcgko+rnkzUuAAAECBAgQIEAgoYCinxDX0AQIECBAgAABAgRyCSj6ueTNS4AAAQIECBAgQCChgKKfENfQBAgQIECAAAECBHIJKPq55M1LgAABAgQIECBAIKGAop8Q19AECBAgQIAAAQIEcgko+rnkzUuAAAECBAgQIEAgoYCinxDX0AQIECBAgAABAgRyCSj6ueTNS4AAAQIECBAgQCChgKKfENfQBAgQIECAAAECBHIJKPq55M1LgAABAgQIECBAIKGAop8Q19AECBAgQIAAAQIEcgko+rnkzUuAAAECBAgQIEAgoYCinxDX0AQIECBAgAABAgRyCSj6ueTNS4AAAQIECBAgQCChgKKfENfQBAgQIECAAAECBHIJKPq55M1LgAABAgQIECBAIKGAop8Q19AECBAgQIAAAQIEcgko+rnkzUuAAAECBAgQIEAgoYCinxDX0AQIECBAgAABAgRyCSj6ueTNS4AAAQIECBAgQCChgKKfENfQBAgQIECAAAECBHIJKPq55M1LgAABAgQIECBAIKGAop8Q19AECBAgQIAAAQIEcgko+rnkzUuAAAECBAgQIEAgoYCinxDX0AQIECBAgAABAgRyCSj6ueTNS4AAAQIECBAgQCChgKKfENfQBAgQIECAAAECBHIJKPq55M1LgAABAgQIECBAIKGAop8Q19AECBAgQIAAAQIEcgko+rnkzUuAAAECBAgQIEDgBIGbm5vw4sWL8Bd/8RfhP/7jP0YjKfojEncQIECAAAECBAgQOG+BouR/8skn4a/+6q/CBx98EP7zP/9ztMKK/ojEHQQIECBAgAABAgTOU+BPf/pT+MMf/hA+++yzsuT/5V/+ZfiHf/iHUBT/4f8U/aGInwkQIECAAAECBAicoUBT8v/5n/85fPe73y2L/vX1dfjzP//z8M0334zWWNEfkbiDAAECBAgQIECAwPkJFGfyi5L/Z3/2Z6Eo+MVlO0XhL+773//939EKK/ojEncQIECAAAECBAgQOC+B4tKc4nKdotgXJb+4ZKco+h9++GF4//33vRn3vHaXtSFAgAABAgQIECBwu0D3jbdFue9+/fVf/3X4u7/7u/Bf//Vfo4Gc0R+RuIMAAQIECBAgQIDA+QgUH6FZlPviLH5xNr84q1+cyS9K/t/8zd9MrqiiP0njAQIECBAgQIAAAQL5BYrPyS8+QrP4dJ3ijbfFNfnF5TrFmfy5/yn6czoeI0CAAAECBAgQIJBZoPjHsIrPyS8u4Sk+Xad4421xX+xyne6qKvpdDbcJECBAgAABAgQIbERA0d/IjrQZBAgQIECAAAECBLoCin5Xw20CBAgQIECAAAECGxFQ9DeyI20GAQIECBAgQIAAga6Aot/VcJsAAQIECBAgQIDAPRf40x//EP74P9+E3f/995vgi4EMyIAMyIAMyIAMyIAMbCsDir4DHQd6MiADMiADMiADMiADG8yAor/BnepofFtH4/an/SkDMiADMiADMnBMBhR9Rd8RvAzIgAzIgAzIgAzIwAYzoOhvcKcec8TnOc4UyIAMyIAMyIAMyMC2MqDoK/qO4GVABmRABmRABmRABjaYAUV/gzvV0fi2jsbtT/tTBmRABmRABmTgmAwo+oq+I3gZkAEZkAEZkAEZkIENZkDR3+BOPeaIz3OcKZABGZABGZABGZCBbWVA0Vf0HcHLgAzIgAzIgAzIgAxsMAOK/gZ3qqPxbR2N25/2pwzIgAzIgAzIwDEZUPQVfUfwMiADMiADMiADMiADG8yAor/BnXrMEZ/nOFMgAzIgAzIgAzIgA9vKgKKv6DuClwEZkAEZkAEZkAEZ2GAGFP0N7lRH49s6Grc/7U8ZkAEZkAEZkIFjMqDoK/qO4GVABmRABmRABmRABjaYAUV/gzv1mCM+z3GmQAZkQAZkQAZkQAa2lQFFX9F3BC8DMiADMiADMiADMrDBDOy++OKL4IuBDMiADMiADMiADMiADNzvDPz611+Er/7pZfjm638pD9x2r169Cr4YyIAMyIAMyIAMyIAMyMD9z8DLly/Dy5e/Df/2r18FRd+BjgM9GZABGZABGZABGZCBjWWgKPuK/sZ2qiPx+38kbh/ahzIgAzIgAzIgA6dmoDizr+gr+o7gZUAGZEAGZEAGZEAGNpgBRX+DO/XUI0DPdxZBBmRABmRABmRABu5/BhR9Rd8RvAzIgAzIgAzIgAzIwAYzoOhvcKc6Ar//R+D2oX0oAzIgAzIgAzJwagYUfUXfEbwMyIAMyIAMyIAMyMAGM6Dob3Cnnnr05/nOIMiADMiADMiADMjA/c+Aoq/oO4KXARmQARmQARmQARnYYAYU/Q3uVEfg9/8I3D60D2VABmRABmRABk7NgKKv6DuClwEZkAEZkAEZkAEZ2GAGFP0N7tRTj/483xkEGZABGZABGZABGbj/GVD0FX1H8DIgAzIgAzIgAzIgAxvMgKK/wZ3qCPz+H4Hbh/ahDMiADMiADMjAqRlQ9BV9R/AyIAMyIAMyIAMyIAMbzICiv8GdeurRn+c7gyADMiADMiADMiAD9z8Dir6i7wheBmRABmRABmRABmRggxlQ9De4Ux2B3/8jcPvQPpQBGZABGZABGTg1AwuL/mfhw/cehAcPmq/3woefwj8V3/NlSAZkQAZkQAZkQAZkIFUGFhX9n/3gQXjwg5/t/6Tz2U/eCw8efD/8zNnwvUmqHWRcv/wyIAMyIAMyIAMyIAPHZGBR0R8N/OmH4b0HD8L3/x76yMbBj4MfGZABGZABGZABGZCBM8iAon8GO8HBggNGGZABGZABGZABGZCBtTNwVNF36Y4grh1E48mUDMiADMiADMiADKybgcOL/t9/v3xT7ns/+cyfZPw1QAZkQAZkQAZkQAZkQAbONAOHFX0lX5DPNMjOAKx7BoAnTxmQARmQARm4/xlYXvSVfCVfyZcBGZABGZABGZABGbg3GVhW9JX8e7NDHX3f/6Nv+9A+lAEZkAEZkAEZWCMDC4r+8B/Lav7RrOK7z9JfYycYwy+zDMiADMiADMiADMjA2hlYUPShr41uPJmSARmQARmQARmQARlInQFF33VmLkuSARmQARmQARmQARnYYAYU/Q3u1NRHh8Z3BkIGZEAGZEAGZEAGzj8Dir6i7wheBmRABmRABmRABmRggxlQ9De4Ux1hn/8Rtn1kH8mADMiADMiADKTOgKKv6DuClwEZkAEZkAEZkAEZ2GAGFP0N7tTUR4fGdwZCBmRABmRABmRABs4/A4q+ou8IXgZkQAZkQAZkQAZkYIMZUPQ3uFMdYZ//EbZ9ZB/JgAzIgAzIgAykzoCir+g7gpcBGZABGZABGZABGdhgBhT9De7U1EeHxncGQgZkQAZkQAZkQAbOPwOKvqLvCF4GZEAGZEAGZEAGZGCDGVD0N7hTHWGf/xG2fWQfyYAMyIAMyIAMpM7AQUX/s5+8Fx48eBDe+8lnjvocIMiADMiADMiADMiADMjAGWdgWdH/9MPwXlnwPwzfV/QF+owDnfrI2PjOvsiADMiADMiADNyXDCwo+p+FD997L3z4abFTf6boK7kOdGRABmRABmRABmRABu5BBhYU/e5Rm6J/X47grGc3t27LgwzIgAzIgAzIwOVlQNG/B0djfjEv7xfTPrfPZUAGZEAGZEAGTs2Aoq/o+9ObDMiADMiADMiADMjABjOg6G9wp5569Of5ziDIgAzIgAzIgAzIwP3PgKKv6DuClwEZkAEZkAEZkAEZ2GAGFP0N7lRH4Pf/CNw+tA9lQAZkQAZkQAZOzcCiov+zHzwo/6Gs4h/L6n2992H4TFF2BCwDMiADMiADMiADMiADZ5eBRUX/1KMJz3dEKgMyIAMyIAMyIAMyIAN3mwFF39Hn2R19+o/A3f5HgDdvGZABGZABGdhmBhR9RV/RlwEZkAEZkAEZkAEZ2GAGFP0N7lRH5ds8Krdf7VcZkAEZkAEZkIFDMqDoK/qO4GVABmRABmRABmRABjaYAUV/gzv1kCM9yzozIAMyIAMyIAMyIAPbzICir+g7gpcBGZABGZABGZABGdhgBhT9De5UR+XbPCq3X+1XGZABGZABGZCBQzKg6Cv6juBlQAZkQAZkQAZkQAY2mAFFf4M79ZAjPcs6MyADMiADMiADMiAD28yAoq/oO4KXARmQARmQARmQARnYYAYU/Q3uVEfl2zwqt1/tVxmQARmQARmQgUMyoOgr+o7gZUAGZEAGZEAGZEAGNpgBRX+DO/WQIz3LOjMgAzIgAzIgAzIgA9vMgKKv6DuClwEZkAEZkAEZkAEZ2GAGFP0N7lRH5ds8Krdf7VcZkAEZkAEZkIFDMqDoK/qO4GVABmRABmRABmRABjaYAUV/gzv1kCM9yzozIAMyIAMyIAMyIAPbzICir+g7gpcBGZABGZABGZABGdhYBl6+fBkU/Y3tVEfk2zwit1/tVxmQARmQARmQgUMy8PLlbxX9Q8As6xdMBmRABmRABmRABmTgnDNQnMkvSv6//etXYffFF18EXwxkQAZkQAZkQAZkQAZk4H5n4Ne//iJ89U8vwzdf/0v4v/9+E3bF//liIAMyIAMyIAMyIAMyIAPbyoCi70DHgZ4MyIAMyIAMyIAMyMAGM6Dob3CnOhrf1tG4/Wl/yoAMyIAMyIAMHJMBRV/RdwQvAzIgAzIgAzIgAzKwwQwo+hvcqccc8XmOMwUyIAMyIAMyIAMysK0M/D9/Ba0ZvgFqTAAAAABJRU5ErkJggg==)"
      ]
    },
    {
      "cell_type": "markdown",
      "metadata": {
        "id": "afyWvb1ZaJJ6"
      },
      "source": [
        "### Assignment Operations\r\n",
        "*This type of operation is used to assign values to a variable. To explain further, an assignment operation function from the right hand side and putting the value to the left hand side.*\r\n",
        "\r\n",
        "*To demonstrate this better, the figure below is an example:*\r\n",
        "\r\n",
        "![image.png](data:image/png;base64,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)"
      ]
    },
    {
      "cell_type": "code",
      "metadata": {
        "id": "rMZ8r4WhanaE"
      },
      "source": [
        "G, H, J, K = 0, 100, 2, 2"
      ],
      "execution_count": 31,
      "outputs": []
    },
    {
      "cell_type": "code",
      "metadata": {
        "id": "IX0EbJ8RaMih",
        "colab": {
          "base_uri": "https://localhost:8080/"
        },
        "outputId": "536307ed-006e-46a4-f770-87084a5cf527"
      },
      "source": [
        "G += a\r\n",
        "G"
      ],
      "execution_count": 32,
      "outputs": [
        {
          "output_type": "execute_result",
          "data": {
            "text/plain": [
              "2.0"
            ]
          },
          "metadata": {
            "tags": []
          },
          "execution_count": 32
        }
      ]
    },
    {
      "cell_type": "markdown",
      "metadata": {
        "id": "7sHdwJntNPUD"
      },
      "source": [
        "**THE OPERATOR: (+=)**\r\n",
        "This operator works differently compared with the addition arithmetic operator. (+=) adds from the right hand operand to the left hand operand then assign the values from the left operand, which in this case is variable G.\r\n",
        "\r\n",
        "![image.png](data:image/png;base64,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)\r\n",
        "\r\n",
        "So what basically happened, since the variable G has a value assigned to it the process of adding it went something like this:\r\n",
        "\r\n",
        "![image.png](data:image/png;base64,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)"
      ]
    },
    {
      "cell_type": "code",
      "metadata": {
        "id": "aIj4hA-JaRA0"
      },
      "source": [
        "H -= d"
      ],
      "execution_count": null,
      "outputs": []
    },
    {
      "cell_type": "code",
      "metadata": {
        "id": "vuuDbAbNaXgS"
      },
      "source": [
        "J *= 2\r\n",
        "J"
      ],
      "execution_count": null,
      "outputs": []
    },
    {
      "cell_type": "code",
      "metadata": {
        "id": "sGVXGduUaeAj"
      },
      "source": [
        "K **= 2\r\n",
        "K"
      ],
      "execution_count": null,
      "outputs": []
    },
    {
      "cell_type": "markdown",
      "metadata": {
        "id": "UGXuqhVNbW7R"
      },
      "source": [
        "### Comparators"
      ]
    },
    {
      "cell_type": "code",
      "metadata": {
        "id": "Oj9xLaEaYeuY"
      },
      "source": [
        "res_1, res_2, res_3 = 1, 2.0, \"1\"\r\n",
        "true_val = 1.0"
      ],
      "execution_count": null,
      "outputs": []
    },
    {
      "cell_type": "code",
      "metadata": {
        "id": "GEXm6RSsbA8Q"
      },
      "source": [
        "## Equality\r\n",
        "res_1 == true_val"
      ],
      "execution_count": null,
      "outputs": []
    },
    {
      "cell_type": "code",
      "metadata": {
        "id": "SdHk_b58bZhD"
      },
      "source": [
        "## Non-equality\r\n",
        "res_2 != true_val"
      ],
      "execution_count": null,
      "outputs": []
    },
    {
      "cell_type": "code",
      "metadata": {
        "id": "EnA4q50JbQB5"
      },
      "source": [
        "## Inequality\r\n",
        "t1 = res_1 > res_2\r\n",
        "t2 = res_1 < res_2/2\r\n",
        "t3 = res_1 >= res_2/2\r\n",
        "t4 = res_1 <= res_2  \r\n",
        "t1"
      ],
      "execution_count": null,
      "outputs": []
    },
    {
      "cell_type": "markdown",
      "metadata": {
        "id": "9WkfdvbfcC1Y"
      },
      "source": [
        "### Logical"
      ]
    },
    {
      "cell_type": "code",
      "metadata": {
        "id": "cYVG6YeNb-Gz"
      },
      "source": [
        "res_1 == true_val"
      ],
      "execution_count": null,
      "outputs": []
    },
    {
      "cell_type": "code",
      "metadata": {
        "id": "rLe6hpkHcN-z"
      },
      "source": [
        "res_1 is true_val"
      ],
      "execution_count": null,
      "outputs": []
    },
    {
      "cell_type": "code",
      "metadata": {
        "id": "tr5qxHQmcO-C"
      },
      "source": [
        "res_1 is not true_val"
      ],
      "execution_count": null,
      "outputs": []
    },
    {
      "cell_type": "code",
      "metadata": {
        "id": "3GU72N-Gcslz"
      },
      "source": [
        "p, q = True, False\r\n",
        "conj = p and q\r\n",
        "conj"
      ],
      "execution_count": null,
      "outputs": []
    },
    {
      "cell_type": "code",
      "metadata": {
        "id": "ihMxcT6KcvQj"
      },
      "source": [
        "p, q = True, False\r\n",
        "disj = p or q\r\n",
        "disj"
      ],
      "execution_count": null,
      "outputs": []
    },
    {
      "cell_type": "code",
      "metadata": {
        "id": "T-QfmeYgcyGQ"
      },
      "source": [
        "p, q = True, False\r\n",
        "nand = not(p and q)\r\n",
        "nand"
      ],
      "execution_count": null,
      "outputs": []
    },
    {
      "cell_type": "code",
      "metadata": {
        "id": "2HL7SlVbc10k"
      },
      "source": [
        "p, q = True, False\r\n",
        "xor = (not p and q) or (p and not q)\r\n",
        "xor"
      ],
      "execution_count": null,
      "outputs": []
    },
    {
      "cell_type": "markdown",
      "metadata": {
        "id": "AQx4DKafYffJ"
      },
      "source": [
        "### I/O"
      ]
    },
    {
      "cell_type": "code",
      "metadata": {
        "id": "Q-DVERG5Yk9w"
      },
      "source": [
        "print(\"Hello World\")"
      ],
      "execution_count": null,
      "outputs": []
    },
    {
      "cell_type": "code",
      "metadata": {
        "id": "fS5wN51beSVF"
      },
      "source": [
        "cnt = 1"
      ],
      "execution_count": null,
      "outputs": []
    },
    {
      "cell_type": "code",
      "metadata": {
        "id": "hKNaUXmdZdUo"
      },
      "source": [
        "string = \"Hello World\"\r\n",
        "print(string, \", Current run count is:\", cnt)\r\n",
        "cnt += 1"
      ],
      "execution_count": null,
      "outputs": []
    },
    {
      "cell_type": "code",
      "metadata": {
        "id": "15_WdzEZcOVX"
      },
      "source": [
        "print(f\"{string}, Current count is: {cnt}\")"
      ],
      "execution_count": null,
      "outputs": []
    },
    {
      "cell_type": "code",
      "metadata": {
        "id": "5m9XtFOPcOXo"
      },
      "source": [
        "sem_grade = 82.243564657461234\r\n",
        "name = \"\"\r\n",
        "print(\"Hello {}, your semestral grade is: {}\".format(name, sem_grade))"
      ],
      "execution_count": null,
      "outputs": []
    },
    {
      "cell_type": "code",
      "metadata": {
        "id": "SMJx6bTnfdgZ"
      },
      "source": [
        "w_pg, w_mg, w_fg = 0.3, 0.3, 0.4\r\n",
        "print(\"The weights of your semestral grades are:\\\r\n",
        "\\n\\t{:.2%} for Prelims\\\r\n",
        "\\n\\t{:.2%} for Midterms, and\\\r\n",
        "\\n\\t{:.2%} for Finals.\".format(w_pg, w_mg, w_fg))"
      ],
      "execution_count": null,
      "outputs": []
    },
    {
      "cell_type": "code",
      "metadata": {
        "id": "Ob2I_zR3jAcZ"
      },
      "source": [
        "x = input(\"enter a number: \")\r\n",
        "x"
      ],
      "execution_count": null,
      "outputs": []
    },
    {
      "cell_type": "code",
      "metadata": {
        "id": "T7ODFfcMh9Pg"
      },
      "source": [
        "name = input(\"Kimi no nawa: \")\r\n",
        "pg = input(\"Enter prelim grade: \")\r\n",
        "mg = input(\"Enter midterm grade: \")\r\n",
        "fg = input(\"Enter finals grade: \")\r\n",
        "sem_grade = None\r\n",
        "print(\"Hello {}, your semestral grade is: {}\".format(name, sem_grade))"
      ],
      "execution_count": null,
      "outputs": []
    },
    {
      "cell_type": "markdown",
      "metadata": {
        "id": "i0g3EothhvqL"
      },
      "source": [
        "# Looping Statements"
      ]
    },
    {
      "cell_type": "markdown",
      "metadata": {
        "id": "j4w90VAIjcFJ"
      },
      "source": [
        "## While"
      ]
    },
    {
      "cell_type": "code",
      "metadata": {
        "id": "4vtSrBPThlse"
      },
      "source": [
        "## while loops\r\n",
        "i, j = 0, 10\r\n",
        "while(i<=j):\r\n",
        "    print(f\"{i}\\t|\\t{j}\")\r\n",
        "    i+=1"
      ],
      "execution_count": null,
      "outputs": []
    },
    {
      "cell_type": "markdown",
      "metadata": {
        "id": "Qz6AH6jRjfUg"
      },
      "source": [
        "## For"
      ]
    },
    {
      "cell_type": "code",
      "metadata": {
        "id": "q0DUwfRkjZY7"
      },
      "source": [
        "# for(int i=0; i<10; i++){\r\n",
        "# printf(i)\r\n",
        "# }\r\n",
        "\r\n",
        "i=0\r\n",
        "for i in range(10):\r\n",
        "    print(i)"
      ],
      "execution_count": null,
      "outputs": []
    },
    {
      "cell_type": "code",
      "metadata": {
        "id": "zaM--lUhjiUg"
      },
      "source": [
        "playlist = []\r\n",
        "print('Now Playing:\\n')\r\n",
        "for song in playlist:\r\n",
        "    print(song)"
      ],
      "execution_count": null,
      "outputs": []
    },
    {
      "cell_type": "markdown",
      "metadata": {
        "id": "N6jTqTZojnSg"
      },
      "source": [
        "# Flow Control"
      ]
    },
    {
      "cell_type": "markdown",
      "metadata": {
        "id": "uhnsV2CijrWQ"
      },
      "source": [
        "## Condition Statements"
      ]
    },
    {
      "cell_type": "code",
      "metadata": {
        "id": "seJplrJojmTg"
      },
      "source": [
        "numeral1, numeral2 = 12, 12\r\n",
        "if(numeral1 == numeral2):\r\n",
        "    print(\"Yey\")\r\n",
        "elif(numeral1>numeral2):\r\n",
        "    print(\"Hoho\")\r\n",
        "else:\r\n",
        "    print(\"Aww\")\r\n",
        "print(\"Hip hip\")"
      ],
      "execution_count": null,
      "outputs": []
    },
    {
      "cell_type": "markdown",
      "metadata": {
        "id": "tlnG1OKilNLo"
      },
      "source": [
        "# Functions"
      ]
    },
    {
      "cell_type": "code",
      "metadata": {
        "id": "1iMUEipnlUKY"
      },
      "source": [
        "# void DeleteUser(int userid){\r\n",
        "#     delete(userid);\r\n",
        "# }\r\n",
        "\r\n",
        "def delete_user (userid):\r\n",
        "    print(\"Successfully deleted user: {}\".format(userid))\r\n",
        "    \r\n",
        "def delete_all_users ():\r\n",
        "    print(\"Successfully deleted all users\")"
      ],
      "execution_count": null,
      "outputs": []
    },
    {
      "cell_type": "code",
      "metadata": {
        "id": "v_TkrftylUEA"
      },
      "source": [
        "userid = 0\r\n",
        "delete_user(0)\r\n",
        "delete_all_users()"
      ],
      "execution_count": null,
      "outputs": []
    },
    {
      "cell_type": "code",
      "metadata": {
        "id": "M0ffjw31lT8Y"
      },
      "source": [
        "def add(addend1, addend2):\r\n",
        "    return addend1 + addend2\r\n",
        "\r\n",
        "def power_of_base2(exponent):\r\n",
        "    return 2**exponent"
      ],
      "execution_count": null,
      "outputs": []
    },
    {
      "cell_type": "markdown",
      "metadata": {
        "id": "2_tDT01oFEGQ"
      },
      "source": [
        "### Lambda Functions"
      ]
    },
    {
      "cell_type": "code",
      "metadata": {
        "id": "tmmBNW9pFg-4"
      },
      "source": [
        "x = 4"
      ],
      "execution_count": null,
      "outputs": []
    },
    {
      "cell_type": "code",
      "metadata": {
        "id": "_9KYzCrIFCpI"
      },
      "source": [
        "def f(x):\r\n",
        "  return 2*(x*x)-1\r\n",
        "f(x)"
      ],
      "execution_count": null,
      "outputs": []
    },
    {
      "cell_type": "code",
      "metadata": {
        "id": "a2uwKwqFFafn"
      },
      "source": [
        "g = lambda x: 2*(x*x)-1\r\n",
        "print(g(x))"
      ],
      "execution_count": null,
      "outputs": []
    },
    {
      "cell_type": "code",
      "metadata": {
        "id": "Rjm9RFrGlMgA"
      },
      "source": [
        "'''\r\n",
        "Create a grade calculator that computes for the semestral grade of a course.\r\n",
        "Students could type their names, the name of the course, then their prelim,\r\n",
        "midterm, and final grade.\r\n",
        "The program should print the semestral grade in 2 decimal points and should\r\n",
        "display the following emojis depending on the situation:\r\n",
        "happy - when grade is greater than 70.00\r\n",
        "laughing - when grade is exactly 70.00\r\n",
        "sad - when grade is below 70.00\r\n",
        "'''\r\n",
        "happy, lol, sad = \"\\U0001F600\",\"\\U0001F923\",\"\\U0001F619\""
      ],
      "execution_count": null,
      "outputs": []
    }
  ]
}